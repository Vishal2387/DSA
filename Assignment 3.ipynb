{
 "cells": [
  {
   "cell_type": "markdown",
   "metadata": {},
   "source": [
    "# Assignment 3"
   ]
  },
  {
   "cell_type": "code",
   "execution_count": 9,
   "metadata": {},
   "outputs": [
    {
     "ename": "RecursionError",
     "evalue": "maximum recursion depth exceeded in comparison",
     "output_type": "error",
     "traceback": [
      "\u001b[1;31m---------------------------------------------------------------------------\u001b[0m",
      "\u001b[1;31mRecursionError\u001b[0m                            Traceback (most recent call last)",
      "\u001b[1;32m<ipython-input-9-60d7026861fe>\u001b[0m in \u001b[0;36m<module>\u001b[1;34m\u001b[0m\n\u001b[0;32m     19\u001b[0m \u001b[0mn\u001b[0m \u001b[1;33m=\u001b[0m \u001b[1;36m3\u001b[0m\u001b[1;33m\u001b[0m\u001b[1;33m\u001b[0m\u001b[0m\n\u001b[0;32m     20\u001b[0m \u001b[0mn\u001b[0m \u001b[1;33m=\u001b[0m \u001b[1;36m1\u001b[0m\u001b[1;33m/\u001b[0m\u001b[0mn\u001b[0m\u001b[1;33m\u001b[0m\u001b[1;33m\u001b[0m\u001b[0m\n\u001b[1;32m---> 21\u001b[1;33m \u001b[0mresult\u001b[0m \u001b[1;33m=\u001b[0m \u001b[0mDAC_Power\u001b[0m\u001b[1;33m(\u001b[0m\u001b[0ma\u001b[0m\u001b[1;33m,\u001b[0m \u001b[0mfloat\u001b[0m\u001b[1;33m(\u001b[0m\u001b[0mn\u001b[0m\u001b[1;33m)\u001b[0m\u001b[1;33m)\u001b[0m\u001b[1;33m\u001b[0m\u001b[1;33m\u001b[0m\u001b[0m\n\u001b[0m\u001b[0;32m     22\u001b[0m \u001b[0mprint\u001b[0m\u001b[1;33m(\u001b[0m\u001b[1;34m\"Power of an Element is:\"\u001b[0m\u001b[1;33m,\u001b[0m \u001b[0mresult\u001b[0m\u001b[1;33m)\u001b[0m\u001b[1;33m\u001b[0m\u001b[1;33m\u001b[0m\u001b[0m\n",
      "\u001b[1;32m<ipython-input-9-60d7026861fe>\u001b[0m in \u001b[0;36mDAC_Power\u001b[1;34m(a, n)\u001b[0m\n\u001b[0;32m      6\u001b[0m   \u001b[1;31m# Big Problem --> Divide and Conquer Methodology\u001b[0m\u001b[1;33m\u001b[0m\u001b[1;33m\u001b[0m\u001b[1;33m\u001b[0m\u001b[0m\n\u001b[0;32m      7\u001b[0m     \u001b[0mmid\u001b[0m \u001b[1;33m=\u001b[0m \u001b[0mn\u001b[0m\u001b[1;33m//\u001b[0m\u001b[1;36m2\u001b[0m  \u001b[1;31m# O(1)\u001b[0m\u001b[1;33m\u001b[0m\u001b[1;33m\u001b[0m\u001b[0m\n\u001b[1;32m----> 8\u001b[1;33m     \u001b[0mb\u001b[0m \u001b[1;33m=\u001b[0m \u001b[0mDAC_Power\u001b[0m\u001b[1;33m(\u001b[0m\u001b[0ma\u001b[0m\u001b[1;33m,\u001b[0m \u001b[0mmid\u001b[0m\u001b[1;33m)\u001b[0m   \u001b[1;31m#T(n/2)\u001b[0m\u001b[1;33m\u001b[0m\u001b[1;33m\u001b[0m\u001b[0m\n\u001b[0m\u001b[0;32m      9\u001b[0m     \u001b[0mc\u001b[0m \u001b[1;33m=\u001b[0m \u001b[0mb\u001b[0m \u001b[1;33m*\u001b[0m \u001b[0mb\u001b[0m         \u001b[1;31m# O(1)\u001b[0m\u001b[1;33m\u001b[0m\u001b[1;33m\u001b[0m\u001b[0m\n\u001b[0;32m     10\u001b[0m   \u001b[1;31m# n is even or odd\u001b[0m\u001b[1;33m\u001b[0m\u001b[1;33m\u001b[0m\u001b[1;33m\u001b[0m\u001b[0m\n",
      "... last 1 frames repeated, from the frame below ...\n",
      "\u001b[1;32m<ipython-input-9-60d7026861fe>\u001b[0m in \u001b[0;36mDAC_Power\u001b[1;34m(a, n)\u001b[0m\n\u001b[0;32m      6\u001b[0m   \u001b[1;31m# Big Problem --> Divide and Conquer Methodology\u001b[0m\u001b[1;33m\u001b[0m\u001b[1;33m\u001b[0m\u001b[1;33m\u001b[0m\u001b[0m\n\u001b[0;32m      7\u001b[0m     \u001b[0mmid\u001b[0m \u001b[1;33m=\u001b[0m \u001b[0mn\u001b[0m\u001b[1;33m//\u001b[0m\u001b[1;36m2\u001b[0m  \u001b[1;31m# O(1)\u001b[0m\u001b[1;33m\u001b[0m\u001b[1;33m\u001b[0m\u001b[0m\n\u001b[1;32m----> 8\u001b[1;33m     \u001b[0mb\u001b[0m \u001b[1;33m=\u001b[0m \u001b[0mDAC_Power\u001b[0m\u001b[1;33m(\u001b[0m\u001b[0ma\u001b[0m\u001b[1;33m,\u001b[0m \u001b[0mmid\u001b[0m\u001b[1;33m)\u001b[0m   \u001b[1;31m#T(n/2)\u001b[0m\u001b[1;33m\u001b[0m\u001b[1;33m\u001b[0m\u001b[0m\n\u001b[0m\u001b[0;32m      9\u001b[0m     \u001b[0mc\u001b[0m \u001b[1;33m=\u001b[0m \u001b[0mb\u001b[0m \u001b[1;33m*\u001b[0m \u001b[0mb\u001b[0m         \u001b[1;31m# O(1)\u001b[0m\u001b[1;33m\u001b[0m\u001b[1;33m\u001b[0m\u001b[0m\n\u001b[0;32m     10\u001b[0m   \u001b[1;31m# n is even or odd\u001b[0m\u001b[1;33m\u001b[0m\u001b[1;33m\u001b[0m\u001b[1;33m\u001b[0m\u001b[0m\n",
      "\u001b[1;31mRecursionError\u001b[0m: maximum recursion depth exceeded in comparison"
     ]
    }
   ],
   "source": [
    "def DAC_Power(a, n):\n",
    "  # Small Problem\n",
    "  if n == 1:\n",
    "    return a\n",
    "  else:\n",
    "  # Big Problem --> Divide and Conquer Methodology\n",
    "    mid = n//2  # O(1)\n",
    "    b = DAC_Power(a, mid)   #T(n/2)\n",
    "    c = b * b         # O(1)\n",
    "  # n is even or odd\n",
    "  # Constant time complexity\n",
    "    if n % 2 == 0:   \n",
    "      return c\n",
    "    else:\n",
    "      return c * a\n",
    "\n",
    "## Driver Code\n",
    "a = 64\n",
    "n = 3\n",
    "n = 1/n\n",
    "result = DAC_Power(a, float(n))\n",
    "print(\"Power of an Element is:\", result)"
   ]
  },
  {
   "cell_type": "code",
   "execution_count": 14,
   "metadata": {},
   "outputs": [
    {
     "data": {
      "text/plain": [
       "2.0"
      ]
     },
     "execution_count": 14,
     "metadata": {},
     "output_type": "execute_result"
    }
   ],
   "source": [
    "n=10\n",
    "k=5\n",
    "n**1/k"
   ]
  },
  {
   "cell_type": "markdown",
   "metadata": {},
   "source": [
    "## Counting of number of Inversions"
   ]
  },
  {
   "cell_type": "code",
   "execution_count": 1,
   "metadata": {},
   "outputs": [
    {
     "name": "stdout",
     "output_type": "stream",
     "text": [
      "5\n",
      "3 8 0 -4 -1\n",
      "Number of Inversions are: 8\n"
     ]
    }
   ],
   "source": [
    "def mergeSort(arr, n):\n",
    "    temp = [0]*n\n",
    "    return _mergeSort(arr, temp, 0, n-1)\n",
    "\n",
    "def _mergeSort(arr, temp, left, right):\n",
    "    inv_count = 0\n",
    "    if left < right:\n",
    "        mid = left + (right - left)//2\n",
    "        inv_count += _mergeSort(arr, temp, left, mid)\n",
    "        inv_count += _mergeSort(arr, temp, mid + 1, right)\n",
    "        inv_count += merge(arr, temp, left, mid, right)\n",
    "    return inv_count\n",
    " \n",
    "def merge(arr, temp, left, mid, right):\n",
    "    i = left     \n",
    "    j = mid + 1 \n",
    "    k = left    \n",
    "    inv_count = 0\n",
    "    while i <= mid and j <= right:\n",
    "        if arr[i] <= arr[j]:          \n",
    "            temp[k] = arr[i]\n",
    "            k = k + 1\n",
    "            i = i + 1\n",
    "        else:\n",
    "            temp[k] = arr[j]       \n",
    "            inv_count += (mid-i + 1)    \n",
    "            k = k + 1\n",
    "            j = j + 1\n",
    " \n",
    "    while i <= mid:\n",
    "        temp[k] = arr[i]\n",
    "        k = k + 1\n",
    "        i = i + 1\n",
    " \n",
    "    while j <= right:\n",
    "        temp[k] = arr[j]\n",
    "        k = k + 1\n",
    "        j = j + 1\n",
    " \n",
    "    for i in range(left, right + 1):\n",
    "        arr[i] = temp[i]   \n",
    "    return inv_count\n",
    " \n",
    "t = int(input())\n",
    "array = list(map(int,input().strip().split()))[:t]\n",
    "n = len(array)\n",
    "count = mergeSort(array, n)\n",
    "print(\"Number of Inversions are:\", count)"
   ]
  },
  {
   "cell_type": "code",
   "execution_count": null,
   "metadata": {},
   "outputs": [],
   "source": []
  }
 ],
 "metadata": {
  "kernelspec": {
   "display_name": "Python 3",
   "language": "python",
   "name": "python3"
  },
  "language_info": {
   "codemirror_mode": {
    "name": "ipython",
    "version": 3
   },
   "file_extension": ".py",
   "mimetype": "text/x-python",
   "name": "python",
   "nbconvert_exporter": "python",
   "pygments_lexer": "ipython3",
   "version": "3.8.5"
  }
 },
 "nbformat": 4,
 "nbformat_minor": 4
}

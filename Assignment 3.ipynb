{
 "cells": [
  {
   "cell_type": "markdown",
   "metadata": {},
   "source": [
    "# Assignment 3"
   ]
  },
  {
   "cell_type": "markdown",
   "metadata": {},
   "source": [
    "## Counting of number of Inversions"
   ]
  },
  {
   "cell_type": "code",
   "execution_count": 1,
   "metadata": {},
   "outputs": [
    {
     "name": "stdout",
     "output_type": "stream",
     "text": [
      "5\n",
      "3 8 0 -4 -1\n",
      "Number of Inversions are: 8\n"
     ]
    }
   ],
   "source": [
    "def mergeSort(arr, n):\n",
    "    temp = [0]*n\n",
    "    return _mergeSort(arr, temp, 0, n-1)\n",
    "\n",
    "def _mergeSort(arr, temp, left, right):\n",
    "    inv_count = 0\n",
    "    if left < right:\n",
    "        mid = left + (right - left)//2\n",
    "        inv_count += _mergeSort(arr, temp, left, mid)\n",
    "        inv_count += _mergeSort(arr, temp, mid + 1, right)\n",
    "        inv_count += merge(arr, temp, left, mid, right)\n",
    "    return inv_count\n",
    " \n",
    "def merge(arr, temp, left, mid, right):\n",
    "    i = left     \n",
    "    j = mid + 1 \n",
    "    k = left    \n",
    "    inv_count = 0\n",
    "    while i <= mid and j <= right:\n",
    "        if arr[i] <= arr[j]:          \n",
    "            temp[k] = arr[i]\n",
    "            k = k + 1\n",
    "            i = i + 1\n",
    "        else:\n",
    "            temp[k] = arr[j]       \n",
    "            inv_count += (mid-i + 1)    \n",
    "            k = k + 1\n",
    "            j = j + 1\n",
    " \n",
    "    while i <= mid:\n",
    "        temp[k] = arr[i]\n",
    "        k = k + 1\n",
    "        i = i + 1\n",
    " \n",
    "    while j <= right:\n",
    "        temp[k] = arr[j]\n",
    "        k = k + 1\n",
    "        j = j + 1\n",
    " \n",
    "    for i in range(left, right + 1):\n",
    "        arr[i] = temp[i]   \n",
    "    return inv_count\n",
    " \n",
    "t = int(input())\n",
    "array = list(map(int,input().strip().split()))[:t]\n",
    "n = len(array)\n",
    "count = mergeSort(array, n)\n",
    "print(\"Number of Inversions are:\", count)"
   ]
  },
  {
   "cell_type": "code",
   "execution_count": null,
   "metadata": {},
   "outputs": [],
   "source": []
  }
 ],
 "metadata": {
  "kernelspec": {
   "display_name": "Python 3",
   "language": "python",
   "name": "python3"
  },
  "language_info": {
   "codemirror_mode": {
    "name": "ipython",
    "version": 3
   },
   "file_extension": ".py",
   "mimetype": "text/x-python",
   "name": "python",
   "nbconvert_exporter": "python",
   "pygments_lexer": "ipython3",
   "version": "3.8.5"
  }
 },
 "nbformat": 4,
 "nbformat_minor": 4
}
